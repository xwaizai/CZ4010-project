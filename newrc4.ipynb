{
 "cells": [
  {
   "cell_type": "code",
   "execution_count": 15,
   "metadata": {},
   "outputs": [],
   "source": [
    "#Initialise the State Array\n",
    "def initS(S):\n",
    "    if len(S) == 0: #if the state array is empty\n",
    "        for i in range(256):\n",
    "            S.append(i)\n",
    "    else:            #else reset the elements in the state array to [0,1,2, ... , 255]\n",
    "        for i in range(256):\n",
    "            S[i] = i\n",
    "\n",
    "#Key Scheduling Algorithm (KSA) for key that is a string\n",
    "#keySTR is the actual string\n",
    "def ksa(keySTR, S):\n",
    "    j = 0\n",
    "    for i in range(256):\n",
    "        #ord returns unicode code (an integer) from a given character\n",
    "        #eg. character ord('a') will return 97\n",
    "        j = (j + S[i] + ord(keySTR[i % len(keySTR)])) % 256 \n",
    "        S[i] , S[j] = S[j] , S[i]\n",
    "\n",
    "# KSA for key which is already a list of integer\n",
    "#keyINT is a list of int that is already converted from a string\n",
    "def ksaInt(keyINT, S):\n",
    "    j = 0\n",
    "    for i in range(256):\n",
    "        j = (j + S[i] + keyINT[i % len(keyINT)]) % 256\n",
    "        S[i] , S[j] = S[j] , S[i]\n",
    "\n",
    "\n",
    "#Pseudo Random Generator Algorithm (PRGA) for full text length of keystream\n",
    "def prga(text, S):\n",
    "    i = 0\n",
    "    j = 0\n",
    "    keyStream = \"\"\n",
    "    #have to generate a key stream as long as the text to be encrypted or decrypted\n",
    "    for _ in range(len(text)):\n",
    "        i = (i + 1) % 256 \n",
    "        j = (j + S[i]) % 256\n",
    "        S[i] , S[j] = S[j] , S[i]\n",
    "        keystreamByte = S[(S[i] + S[j]) % 256]\n",
    "        keyStream += chr(keystreamByte) #chr return convert the integer back to character\n",
    "    return keyStream"
   ]
  },
  {
   "cell_type": "code",
   "execution_count": 16,
   "metadata": {},
   "outputs": [
    {
     "name": "stdout",
     "output_type": "stream",
     "text": [
      "encrypted plaintext: x\u0010è\u0011ò\u00035·lTÚ\u0007Ü±ÓÊõq\n",
      "decrypted ciphertext: This is a plaintext.\n",
      "ARC4 implementation successful\n"
     ]
    }
   ],
   "source": [
    "# Enter your key and plaintext\n",
    "key = \"12ab34cd45ef\"\n",
    "plaintext = \"This is a plaintext.\"\n",
    "S = []\n",
    "encryption_keyStream = \"\"\n",
    "encrypted_plainText = \"\"\n",
    "decryption_keyStream = \"\"\n",
    "decrypted_plainText = \"\"\n",
    "\n",
    "#Encryption\n",
    "initS(S)\n",
    "ksa(key, S)\n",
    "encryption_keyStream = prga(plaintext, S)\n",
    "for i in range(len(plaintext)):\n",
    "    encrypted_plainText += chr(ord(plaintext[i]) ^ ord(encryption_keyStream[i]))\n",
    "print(\"encrypted plaintext: \"  +encrypted_plainText)\n",
    "\n",
    "#Decryption\n",
    "initS(S)\n",
    "ksa(key, S)\n",
    "decryption_keyStream = prga(encrypted_plainText, S)\n",
    "for i in range(len(encrypted_plainText)):\n",
    "    decrypted_plainText += chr(ord(encrypted_plainText[i]) ^ ord(decryption_keyStream[i]))\n",
    "print(\"decrypted ciphertext: \" + decrypted_plainText)\n",
    "\n",
    "#Correctness Check\n",
    "if(decrypted_plainText == plaintext):\n",
    "    print(\"ARC4 implementation successful\")\n",
    "else:\n",
    "    print(\"Something when wrong, decrypted plaintext not equals to plaintext\")"
   ]
  },
  {
   "cell_type": "code",
   "execution_count": null,
   "metadata": {},
   "outputs": [],
   "source": []
  }
 ],
 "metadata": {
  "interpreter": {
   "hash": "eec71fe40e00f77387fc4c3e71b57d146c90bab8a0f5bb1f485e51ecb00ab639"
  },
  "kernelspec": {
   "display_name": "Python 3.8.0 ('venv': venv)",
   "language": "python",
   "name": "python3"
  },
  "language_info": {
   "codemirror_mode": {
    "name": "ipython",
    "version": 3
   },
   "file_extension": ".py",
   "mimetype": "text/x-python",
   "name": "python",
   "nbconvert_exporter": "python",
   "pygments_lexer": "ipython3",
   "version": "3.8.0"
  },
  "orig_nbformat": 4
 },
 "nbformat": 4,
 "nbformat_minor": 2
}
