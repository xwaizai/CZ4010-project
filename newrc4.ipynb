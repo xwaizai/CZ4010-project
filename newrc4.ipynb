{
 "cells": [
  {
   "cell_type": "code",
   "execution_count": 13,
   "metadata": {},
   "outputs": [],
   "source": [
    "#Initialise the State Array\n",
    "def initS(S):\n",
    "    if len(S) == 0:\n",
    "        for i in range(256):\n",
    "            S.append(i)\n",
    "    else:            #reset the State Array if there already is elements in it\n",
    "        for i in range(256):\n",
    "            S[i] = i\n",
    "\n",
    "#Key Scheduling Algorithm (KSA)\n",
    "#keySTR is the actual string\n",
    "def ksa(keySTR, S):\n",
    "    j = 0\n",
    "    for i in range(256):\n",
    "        #ord returns unicode code (an integer) from a given character\n",
    "        #eg. character ord('a') will return 97\n",
    "        j = (j + S[i] + ord(keySTR[i % len(keySTR)])) % 256 \n",
    "        S[i] , S[j] = S[j] , S[i]\n",
    "\n",
    "# KSA for key whose value is int\n",
    "#keyINT is a list of int that is already converted from a string\n",
    "def ksaInt(keyINT, S):\n",
    "    j = 0\n",
    "    for i in range(256):\n",
    "        j = (j + S[i] + keyINT[i % len(keyINT)]) % 256\n",
    "        S[i] , S[j] = S[j] , S[i]\n",
    "\n",
    "\n",
    "#Pseudo Random Generator Algorithm (PRGA) for full text length of keystream\n",
    "def prga(plainText, S):\n",
    "    i = 0\n",
    "    j = 0\n",
    "    keyStream = \"\"\n",
    "    #have to generate a key stream as long as the text to be encrypted or decrypted\n",
    "    for i in range(len(plainText)):\n",
    "        i = (i + 1) % 256 \n",
    "        j = (j + S[i]) % 256\n",
    "        S[i] , S[j] = S[j] , S[i]\n",
    "        keyStreamByte = S[(S[i] + S[j]) % 256]\n",
    "        keyStream += chr(keyStreamByte) #chr return string that represents char that's linked to unicode\n",
    "    return keyStream"
   ]
  },
  {
   "cell_type": "code",
   "execution_count": 14,
   "metadata": {},
   "outputs": [
    {
     "name": "stdout",
     "output_type": "stream",
     "text": [
      "encrypted plaintext: 5ºaÅâLÕá£¬Íã\fw|_\n",
      "decrypted ciphertext: This is a plaintext.\n",
      "ARC4 implementation successful\n"
     ]
    }
   ],
   "source": [
    "# Choose your key and plaintext\n",
    "key = \"a1b2c3d4e5f6\"\n",
    "plainText = \"This is a plaintext.\"\n",
    "S = []\n",
    "enc_keyStream = \"\"\n",
    "enc_plainText = \"\"\n",
    "dec_keyStream = \"\"\n",
    "dec_plainText = \"\"\n",
    "\n",
    "#Encryption\n",
    "initS(S)\n",
    "ksa(key, S)\n",
    "enc_keyStream = prga(plainText, S)\n",
    "for i in range(len(plainText)):\n",
    "    enc_plainText += chr(ord(plainText[i]) ^ ord(enc_keyStream[i]))\n",
    "print(\"encrypted plaintext: \" + enc_plainText)\n",
    "\n",
    "#Decryption\n",
    "initS(S)\n",
    "ksa(key, S)\n",
    "dec_keyStream = prga(enc_plainText, S)\n",
    "for i in range(len(enc_plainText)):\n",
    "    dec_plainText += chr(ord(enc_plainText[i]) ^ ord(dec_keyStream[i]))\n",
    "print(\"decrypted ciphertext: \" + dec_plainText)\n",
    "\n",
    "#Correctness Check\n",
    "if(dec_plainText == plainText):\n",
    "    print(\"ARC4 implementation successful\")\n",
    "else:\n",
    "    print(\"Correctness of ARC4 is not vaild, decryption is not equals to plain text\")"
   ]
  },
  {
   "cell_type": "code",
   "execution_count": null,
   "metadata": {},
   "outputs": [],
   "source": []
  }
 ],
 "metadata": {
  "interpreter": {
   "hash": "eec71fe40e00f77387fc4c3e71b57d146c90bab8a0f5bb1f485e51ecb00ab639"
  },
  "kernelspec": {
   "display_name": "Python 3.8.0 ('venv': venv)",
   "language": "python",
   "name": "python3"
  },
  "language_info": {
   "codemirror_mode": {
    "name": "ipython",
    "version": 3
   },
   "file_extension": ".py",
   "mimetype": "text/x-python",
   "name": "python",
   "nbconvert_exporter": "python",
   "pygments_lexer": "ipython3",
   "version": "3.8.0"
  },
  "orig_nbformat": 4
 },
 "nbformat": 4,
 "nbformat_minor": 2
}
